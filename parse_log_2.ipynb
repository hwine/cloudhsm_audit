{
 "cells": [
  {
   "cell_type": "markdown",
   "metadata": {},
   "source": [
    " # Overview\n",
    "\n",
    " This notebook \"shows the work\" of interpretting \"who owns what\" in a cloudHSM unit.\n",
    " It was originally developed to determine if our prod HSM was impacted by a cloudHSM\n",
    " firmware bug fixed in April, but just reported in November 2020. We anticipate\n",
    " this notebook to be helpful in future audits as well."
   ]
  },
  {
   "cell_type": "markdown",
   "metadata": {},
   "source": [
    " ## Usage\n",
    "\n",
    " 1. record a terminal session where you collect data from a cloudHSM unit using the [management utility][mgmt-util]:\n",
    "     1. run the \"[`listUsers`][listUsers]\" command.\n",
    "     1. for each \"`{user_id}`\", run the \"[`findAllKeys {user_id} 0`][findAllKeys]\" command\n",
    " 1. copy/paste that log into a local file. ***NB:*** be sure NOT to save the plain text login password\n",
    " 1. update the \"`filename`\" variable in the next cell with the path to the file. (If you're using vscode, it must be the abspath.)\n",
    " 1. run all the cells\n",
    " 1. interpret the output\n",
    "\n",
    " [mgmt-util]: https://docs.google.com/document/d/1tVYApGVvSSyMnBrWBryev6VA_1kHm4l1XRHm9rGSZ24/edit#\n",
    " [listUsers]: https://docs.aws.amazon.com/cloudhsm/latest/userguide/cloudhsm_mgmt_util-listUsers.html\n",
    " [findAllKeys]: https://docs.aws.amazon.com/cloudhsm/latest/userguide/cloudhsm_mgmt_util-findAllKeys.html"
   ]
  },
  {
   "cell_type": "code",
   "execution_count": null,
   "metadata": {},
   "outputs": [],
   "source": [
    "filename = \"/home/hwine/wip/cloudhsm_audit/mgmt_log_1.working\"\n",
    "\n"
   ]
  },
  {
   "cell_type": "code",
   "execution_count": null,
   "metadata": {},
   "outputs": [],
   "source": [
    "# read in the file\n",
    "with open(filename) as f:\n",
    "    log_lines = f.readlines()\n",
    "print(f\"Processing {len(log_lines)} lines\")\n",
    "\n"
   ]
  },
  {
   "cell_type": "code",
   "execution_count": null,
   "metadata": {},
   "outputs": [],
   "source": [
    "# utility routines\n",
    "log_line_index = 0\n",
    "\n",
    "def reset(to: int = 0) -> None:\n",
    "    global log_line_index\n",
    "    log_line_index = to\n",
    "\n",
    "def skip_to(text):\n",
    "    global log_line_index\n",
    "    while text not in log_lines[log_line_index]:\n",
    "        log_line_index += 1\n",
    "\n",
    "def get_line() -> str:\n",
    "    global log_line_index\n",
    "    line = log_lines[log_line_index]\n",
    "    log_line_index += 1\n",
    "    return line\n",
    "\n",
    "def skip_lines(count: int) -> None:\n",
    "    global log_line_index\n",
    "    log_line_index += count\n",
    "\n"
   ]
  },
  {
   "cell_type": "code",
   "execution_count": null,
   "metadata": {},
   "outputs": [],
   "source": [
    "# data structures\n",
    "from collections import namedtuple\n",
    "User = namedtuple(\"User\", \"user_id user_type user_name\")\n",
    "\n"
   ]
  },
  {
   "cell_type": "code",
   "execution_count": null,
   "metadata": {},
   "outputs": [],
   "source": [
    "# get user info\n",
    "reset()\n",
    "skip_to(\"Number of users found\")\n",
    "number_of_users = int(get_line().split(\":\")[1])\n",
    "print(f\"found {number_of_users} users\")\n",
    "skip_lines(2)\n",
    "users = {}\n",
    "for i in range(1, number_of_users+1):\n",
    "    user_id, user_type, user_name, *_ = get_line().split()\n",
    "    assert int(user_id) == i\n",
    "    user = User(user_id, user_type, user_name)\n",
    "    users[i] = {\"user\": user}\n",
    "\n",
    "# remember where we finished\n",
    "start_of_info = log_line_index\n",
    "\n"
   ]
  },
  {
   "cell_type": "code",
   "execution_count": null,
   "metadata": {},
   "outputs": [],
   "source": [
    "# grab keys for user\n",
    "\n",
    "# regex for keys\n",
    "import re\n",
    "key_pattern = re.compile(r'''\n",
    "    (?P<id>\\d+)  # key id\n",
    "    (?:\\(  # ignore the parens around the optional type\n",
    "        (?P<type>[os,]+)  # grab the type\n",
    "    \\))?  # optional type string\n",
    "    ,? # separater\n",
    "''', re.VERBOSE)\n",
    "for i in users.keys():\n",
    "    reset(start_of_info)\n",
    "    skip_to(f\"findAllKeys {i} 0\")\n",
    "    skip_to(\"Number of keys found \")\n",
    "    number_of_keys = int(get_line().split()[-1])\n",
    "    if number_of_keys:\n",
    "        skip_lines(1)\n",
    "        key_line = get_line()\n",
    "        found_keys = []\n",
    "        for m in key_pattern.finditer(key_line):\n",
    "            found_keys.append(m.groupdict())\n",
    "        assert len(found_keys) == number_of_keys\n",
    "        users[i][\"keys\"] = found_keys\n",
    "\n",
    "\n",
    "\n"
   ]
  },
  {
   "cell_type": "code",
   "execution_count": null,
   "metadata": {},
   "outputs": [],
   "source": [
    "\n",
    "key_by_id = {}\n",
    "def build_key_by_id() -> None:\n",
    "    global key_by_id\n",
    "    for user_id, v in users.items():\n",
    "        if \"keys\" not in v:\n",
    "            print(f\"no 'keys' for {user_id}\")\n",
    "            continue\n",
    "        for key in v[\"keys\"]:\n",
    "            # ignore public keys (type == None)\n",
    "            key_type = key[\"type\"]\n",
    "            if key_type and \"o\" in key_type:\n",
    "                if key[\"id\"] in key_by_id:\n",
    "                    print(f\"Error! multiple owners for {key['id']}\")\n",
    "                key_by_id[key[\"id\"]] = v[\"user\"]\n",
    "            elif not key_type:\n",
    "                print(f\"no type for {key}\")\n",
    "\n",
    "build_key_by_id()\n",
    "\n",
    "def find_key_owner(id: int) -> User:\n",
    "    global key_by_id\n",
    "    try:\n",
    "        owner = key_by_id[id]\n",
    "    except KeyError:\n",
    "        print(f\"No one owns key {id}\")\n",
    "        owner = User(-1, '', '<unknown>')\n",
    "    return owner\n",
    "\n"
   ]
  },
  {
   "cell_type": "code",
   "execution_count": null,
   "metadata": {},
   "outputs": [],
   "source": [
    "# now have all the data, report out anything we don't expect\n",
    "# Note that different results are reported if \"releng\" is considered\n",
    "# a key owner\n",
    "include_releng = True\n",
    "key_owners = [k for k,v in users.items() if v[\"user\"].user_name.startswith(\"ko\")]\n",
    "if include_releng:\n",
    "    key_owners.extend([k for k,v in users.items() if v[\"user\"].user_name.startswith(\"releng\")])\n",
    "\n",
    "# keep track of which keys are owned by wrong party\n",
    "from collections import defaultdict\n",
    "mis_owned_keys = defaultdict(list)\n",
    "for ko in key_owners:\n",
    "    user_name = users[ko][\"user\"].user_name\n",
    "    print(f\"Checking {user_name} (id:{ko})\")\n",
    "    # all keys owned, none shared to\n",
    "    for key in users[ko][\"keys\"]:\n",
    "        key_type = key[\"type\"]\n",
    "        if key_type is None:\n",
    "            continue\n",
    "        elif \"o\" not in key_type:\n",
    "            print(f\"\"\"Error! {user_name} doesn't own {key[\"id\"]}\"\"\")\n",
    "            mis_owned_keys[key[\"id\"]].append({\"id\":ko, \"name\": user_name})\n",
    "\n",
    "print(f\"{len(mis_owned_keys)} mis-owned keys\")\n",
    "\n"
   ]
  },
  {
   "cell_type": "code",
   "execution_count": null,
   "metadata": {},
   "outputs": [],
   "source": [
    "# display current owners of mis-matched keys\n",
    "for k, v in mis_owned_keys.items():\n",
    "    owner = find_key_owner(k)\n",
    "    print(f\"user {owner.user_id} ({owner.user_name}) owns key {k}\")\n",
    "    print(f\"\"\"   should be owned by user {v[0][\"id\"]} ({v[0][\"name\"]})\"\"\")\n",
    "    assert len(v) == 1\n",
    "\n",
    "\n"
   ]
  }
 ],
 "metadata": {
  "language_info": {
   "codemirror_mode": {
    "name": "ipython",
    "version": 3
   },
   "file_extension": ".py",
   "mimetype": "text/x-python",
   "name": "python",
   "nbconvert_exporter": "python",
   "pygments_lexer": "ipython3",
   "version": 3
  }
 },
 "nbformat": 4,
 "nbformat_minor": 2
}
