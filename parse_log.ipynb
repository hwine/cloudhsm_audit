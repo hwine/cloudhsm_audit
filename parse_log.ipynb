{
 "cells": [
  {
   "cell_type": "code",
   "execution_count": null,
   "metadata": {},
   "outputs": [],
   "source": [
    "# read in the file\n",
    "with open(\"mgmt_log_1.working\") as f:\n",
    "    log_lines = f.readlines()\n",
    "print(f\"Processing {len(log_lines)} lines\")"
   ]
  },
  {
   "cell_type": "code",
   "execution_count": null,
   "metadata": {},
   "outputs": [],
   "source": [
    "# utility routines\n",
    "log_line_index = 0\n",
    "\n",
    "def reset(to: int = 0) -> None:\n",
    "    global log_line_index\n",
    "    log_line_index = to\n",
    "\n",
    "def skip_to(text):\n",
    "    global log_line_index\n",
    "    while text not in log_lines[log_line_index]:\n",
    "        log_line_index += 1\n",
    "\n",
    "def get_line() -> str:\n",
    "    global log_line_index\n",
    "    line = log_lines[log_line_index]\n",
    "    log_line_index += 1\n",
    "    return line\n",
    "\n",
    "def skip_lines(count: int) -> None:\n",
    "    global log_line_index\n",
    "    log_line_index += count\n"
   ]
  },
  {
   "cell_type": "code",
   "execution_count": null,
   "metadata": {},
   "outputs": [],
   "source": [
    "# data structures\n",
    "from collections import namedtuple\n",
    "User = namedtuple(\"User\", \"user_id user_type user_name\")"
   ]
  },
  {
   "cell_type": "code",
   "execution_count": null,
   "metadata": {},
   "outputs": [],
   "source": [
    "# get user info\n",
    "reset()\n",
    "skip_to(\"Number of users found\")\n",
    "number_of_users = int(get_line().split(\":\")[1])\n",
    "print(f\"found {number_of_users} users\")\n",
    "skip_lines(2)\n",
    "users = {}\n",
    "for i in range(1, number_of_users+1):\n",
    "    user_id, user_type, user_name, *_ = get_line().split()\n",
    "    assert int(user_id) == i\n",
    "    user = User(user_id, user_type, user_name)\n",
    "    users[i] = {\"user\": user}"
   ]
  },
  {
   "cell_type": "code",
   "execution_count": null,
   "metadata": {},
   "outputs": [],
   "source": [
    "# grab keys for user\n",
    "start_of_info = log_line_index\n",
    "\n",
    "# regex for keys\n",
    "import re\n",
    "key_pattern = re.compile(r'''(?P<id>\\d+)  # key id\n",
    "(\\((?P<type>[os,]+)\\))?  # optional type string\n",
    ",? # separater\n",
    "''', re.VERBOSE)\n",
    "for i in users.keys():\n",
    "    skip_to(f\"findAllKeys {i} 0\")\n",
    "    skip_to(\"Number of keys found \")\n",
    "    number_of_keys = int(get_line().split()[-1])\n",
    "    if number_of_keys:\n",
    "        skip_lines(1)\n",
    "        key_line = get_line()\n",
    "        as_expected = key_pattern.match(key_line)\n",
    "        assert as_expected\n",
    "        users[i][\"keys\"] = as_expected.groupdict()\n",
    "\n",
    "\n",
    "\n"
   ]
  },
  {
   "cell_type": "code",
   "execution_count": null,
   "metadata": {},
   "outputs": [],
   "source": [
    "users[3]"
   ]
  }
 ],
 "metadata": {
  "kernelspec": {
   "display_name": "Python 3.6.6 64-bit ('venv': venv)",
   "name": "python36664bitvenvvenv240cea13440648bcb27b4fdbd904f0ba"
  },
  "language_info": {
   "codemirror_mode": {
    "name": "ipython",
    "version": 3
   },
   "file_extension": ".py",
   "mimetype": "text/x-python",
   "name": "python",
   "nbconvert_exporter": "python",
   "pygments_lexer": "ipython3",
   "version": "3.8.3-final"
  }
 },
 "nbformat": 4,
 "nbformat_minor": 2
}
